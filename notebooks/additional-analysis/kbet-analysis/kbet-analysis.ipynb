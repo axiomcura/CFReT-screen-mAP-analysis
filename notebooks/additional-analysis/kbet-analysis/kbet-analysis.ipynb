{
 "cells": [
  {
   "cell_type": "code",
   "execution_count": 22,
   "metadata": {
    "vscode": {
     "languageId": "r"
    }
   },
   "outputs": [
    {
     "name": "stderr",
     "output_type": "stream",
     "text": [
      "Skipping install of 'kBET' from a github remote, the SHA1 (afc5f431) has not changed since last install.\n",
      "  Use `force = TRUE` to force installation\n",
      "\n"
     ]
    }
   ],
   "source": [
    "suppressMessages(suppressWarnings(library(ggplot2)))\n",
    "suppressMessages(suppressWarnings(library(devtools)))\n",
    "suppressMessages(suppressWarnings(library(dplyr)))\n",
    "suppressMessages(suppressWarnings(library(RColorBrewer)))\n",
    "suppressMessages(suppressWarnings(library(jsonlite)))\n",
    "\n",
    "# installing kbet from github\n",
    "install_github('theislab/kBET')\n",
    "library(kBET)"
   ]
  },
  {
   "cell_type": "code",
   "execution_count": 17,
   "metadata": {
    "vscode": {
     "languageId": "r"
    }
   },
   "outputs": [],
   "source": [
    "# setting feature selected aggregated profiles\n",
    "# this contains the aggregated profiles of the feature selected data\n",
    "agg_fs_path <- \"./batch1_4_plates_aggregated_fs.csv\"\n"
   ]
  },
  {
   "cell_type": "code",
   "execution_count": 18,
   "metadata": {
    "vscode": {
     "languageId": "r"
    }
   },
   "outputs": [],
   "source": [
    "# loading in the csv file as a dataframe\n",
    "agg_fs <- read.csv(agg_fs_path)\n",
    "\n",
    "# setting the metadata columns and feature columns\n",
    "metadata_cols <- c(\"Metadata_plate_id\", colnames(agg_fs)[1:8])\n",
    "feature_cols <- colnames(agg_fs)[9:ncol(agg_fs)]\n"
   ]
  },
  {
   "cell_type": "code",
   "execution_count": 25,
   "metadata": {
    "vscode": {
     "languageId": "r"
    }
   },
   "outputs": [
    {
     "ename": "ERROR",
     "evalue": "Error in kBET(data = data, batch = data$Metadata_plate_id, plot = FALSE): unused argument (data = data)\n",
     "output_type": "error",
     "traceback": [
      "Error in kBET(data = data, batch = data$Metadata_plate_id, plot = FALSE): unused argument (data = data)\nTraceback:\n"
     ]
    }
   ],
   "source": [
    "# from the agg_fs datafrtame, we select the \"Metadata_plate_id\" and the feature columns\n",
    "data = agg_fs[, c(\"Metadata_plate_id\", feature_cols)]\n",
    "kBET(data=data, batch=data$Metadata_plate_id, plot=FALSE)\n"
   ]
  }
 ],
 "metadata": {
  "kernelspec": {
   "display_name": "R",
   "language": "R",
   "name": "ir"
  },
  "language_info": {
   "codemirror_mode": "r",
   "file_extension": ".r",
   "mimetype": "text/x-r-source",
   "name": "R",
   "pygments_lexer": "r",
   "version": "4.4.2"
  }
 },
 "nbformat": 4,
 "nbformat_minor": 2
}
