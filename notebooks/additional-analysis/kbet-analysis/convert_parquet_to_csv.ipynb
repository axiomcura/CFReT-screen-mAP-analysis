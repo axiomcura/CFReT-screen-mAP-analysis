{
 "cells": [
  {
   "cell_type": "code",
   "execution_count": 15,
   "metadata": {},
   "outputs": [],
   "source": [
    "import sys\n",
    "import pathlib\n",
    "import pandas as pd\n",
    "\n",
    "\n",
    "sys.path.append(\"../../\")\n",
    "from utils import io_utils"
   ]
  },
  {
   "cell_type": "code",
   "execution_count": 16,
   "metadata": {},
   "outputs": [],
   "source": [
    "data_dir = pathlib.Path(\"../data/agg_fs_profiles/\").resolve(strict=True)\n",
    "\n",
    "# getting all data file paths in the data directory\n",
    "data_files = list(data_dir.glob(\"*.parquet\"))\n",
    "if len(data_files) == 0:\n",
    "    raise FileNotFoundError(\"No data files found in the data directory\")\n",
    "\n",
    "# shared features config path\n",
    "shared_features_config_path = pathlib.Path(\"../1.map-analysis/results/shared_features.json\").resolve(strict=True)\n"
   ]
  },
  {
   "cell_type": "code",
   "execution_count": 17,
   "metadata": {},
   "outputs": [],
   "source": [
    "# loading the share feature space \n",
    "configs = io_utils.load_config(shared_features_config_path)\n",
    "shared_feats = configs[\"shared_features\"]\n",
    "\n",
    "# loading the data and selecting only the shared features\n",
    "all_dfs = []\n",
    "for data_file in data_files:\n",
    "    plate_id = data_file.stem.split(\"_\", 1)[0]\n",
    "    loaded_df = pd.read_parquet(data_file)[shared_feats]\n",
    "    loaded_df.insert(0, \"Metadata_plate_id\", plate_id)\n",
    "    all_dfs.append(loaded_df)\n",
    "\n",
    "# concatenating all dataframes\n",
    "all_dfs = pd.concat(all_dfs, axis=0)"
   ]
  },
  {
   "cell_type": "code",
   "execution_count": 18,
   "metadata": {},
   "outputs": [],
   "source": [
    "# saving the data to current directory\n",
    "all_dfs.to_csv(\"./batch1_4_plates_aggregated_fs.csv\", index=False)"
   ]
  }
 ],
 "metadata": {
  "kernelspec": {
   "display_name": "cfret-map",
   "language": "python",
   "name": "python3"
  },
  "language_info": {
   "codemirror_mode": {
    "name": "ipython",
    "version": 3
   },
   "file_extension": ".py",
   "mimetype": "text/x-python",
   "name": "python",
   "nbconvert_exporter": "python",
   "pygments_lexer": "ipython3",
   "version": "3.11.11"
  }
 },
 "nbformat": 4,
 "nbformat_minor": 2
}
